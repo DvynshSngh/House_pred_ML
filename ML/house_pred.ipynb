{
 "cells": [
  {
   "cell_type": "code",
   "execution_count": 37,
   "metadata": {},
   "outputs": [],
   "source": [
    "import pandas as pd\n",
    "from sklearn.model_selection import train_test_split\n",
    "from sklearn.linear_model import LinearRegression\n",
    "from sklearn.metrics import mean_squared_error"
   ]
  },
  {
   "cell_type": "code",
   "execution_count": 38,
   "metadata": {},
   "outputs": [],
   "source": [
    "\n",
    "# df is dataframe, which is the file containing tuples we will be using.\n",
    "df = pd.read_csv('train.csv')\n",
    "\n",
    "# As ID column does not contribute any value, we drop it\n",
    "df = df.drop(columns=['ID'])\n",
    "\n",
    "# data divided into features (X) and target (y)\n",
    "\n",
    "# Features are all columns except 'medv'\n",
    "X = df.drop(columns=['medv'])\n",
    "\n",
    "# Target is the 'medv' column\n",
    "y = df['medv']\n",
    "\n",
    "# Splitting dataset into 80% training and 20% testing sets\n",
    "X_train, X_test, y_train, y_test = train_test_split(X, y, test_size=0.2, random_state=101001)\n",
    "\n",
    "# using the linear regression model\n",
    "model = LinearRegression()\n"
   ]
  },
  {
   "cell_type": "code",
   "execution_count": 39,
   "metadata": {},
   "outputs": [
    {
     "name": "stdout",
     "output_type": "stream",
     "text": [
      "Root Mean Squared Error: 3.3563830253513753\n"
     ]
    }
   ],
   "source": [
    "\n",
    "# Training the model on 80% training data\n",
    "model.fit(X_train, y_train)\n",
    "\n",
    "# Making predictions on 20% testing data\n",
    "y_pred = model.predict(X_test)\n",
    "\n",
    "# Evaluation of the model by root mean square error\n",
    "mse = mean_squared_error(y_test, y_pred)\n",
    "# obtaining the square root value\n",
    "rmse = mse ** 0.5\n",
    "\n",
    "# print Root Mean Squared Error (RMSE)\n",
    "print(f'Root Mean Squared Error: {rmse}')"
   ]
  },
  {
   "cell_type": "code",
   "execution_count": 40,
   "metadata": {},
   "outputs": [],
   "source": [
    "# this file contains the values predicted\n",
    "res = pd.DataFrame(y_pred)\n",
    "\n",
    "# Print the values predicted to a csv file named 'test_output.csv'\n",
    "res.to_csv( 'test_output.csv', index=True )"
   ]
  },
  {
   "cell_type": "code",
   "execution_count": 41,
   "metadata": {},
   "outputs": [],
   "source": [
    "# this file is the values that are actually correct, obtained from the given dataset\n",
    "res = pd.DataFrame(y_test)\n",
    "\n",
    "# print the actual house prices to a csv file named 'test_answers'\n",
    "res.to_csv( 'test_answers.csv', index=True )"
   ]
  },
  {
   "cell_type": "code",
   "execution_count": 50,
   "metadata": {},
   "outputs": [],
   "source": [
    "# Now we will predict the prices of Houses querried to us in file named 'test.csv'\n",
    "querries = pd.read_csv('test.csv')\n",
    "q_id = querries['ID']\n",
    "\n",
    "# Drop the column ID as it was not taken in consideration while model was trained\n",
    "querries = querries.drop(columns=['ID'])\n",
    "\n",
    "# predict the Prices of Houses\n",
    "final_ans = model.predict( querries )\n",
    "\n",
    "# Include the ID column for the final DataFrame\n",
    "final_ans_df = pd.DataFrame({\n",
    "    'House_ID': q_id,\n",
    "    'Predicted_Price': final_ans\n",
    "})\n",
    "\n",
    "# Convert to a Dataframe and print the result of test.csv querries to a csv file\n",
    "final_ans_df.to_csv('final_output.csv', index=False)"
   ]
  },
  {
   "cell_type": "code",
   "execution_count": 35,
   "metadata": {},
   "outputs": [],
   "source": [
    "# * THIS CELL DOES NOT CONTAIN ANYTHING IMPORTANT *\n",
    "\n",
    "# X_test2 = pd.read_csv('test.csv')\n",
    "# id = X_test2['ID']\n",
    "# X_test2 = X_test2.drop(columns=['ID'])\n",
    "# y_pred2 = model.predict( X_test2 )\n",
    "\n",
    "# print(y_pred2)\n",
    "\n",
    "# y_pred2 = pd.DataFrame(y_pred2)\n",
    "# y_pred2.to_csv( 'test_output.csv', index=True )\n",
    "\n",
    "# A hardcoded version to understand dimennsions of the output file\n",
    "# arr = [[0.08829,12.5,7.87,0,0.524,6.012,66.6,5.5605,5,311,15.2,395.6,12.43]]\n",
    "# print(model.predict(arr))"
   ]
  }
 ],
 "metadata": {
  "kernelspec": {
   "display_name": "Python 3",
   "language": "python",
   "name": "python3"
  },
  "language_info": {
   "codemirror_mode": {
    "name": "ipython",
    "version": 3
   },
   "file_extension": ".py",
   "mimetype": "text/x-python",
   "name": "python",
   "nbconvert_exporter": "python",
   "pygments_lexer": "ipython3",
   "version": "3.12.4"
  }
 },
 "nbformat": 4,
 "nbformat_minor": 2
}
